{
 "cells": [
  {
   "cell_type": "code",
   "execution_count": 3,
   "metadata": {},
   "outputs": [
    {
     "ename": "SyntaxError",
     "evalue": "invalid syntax (815139307.py, line 5)",
     "output_type": "error",
     "traceback": [
      "\u001b[0;36m  Cell \u001b[0;32mIn [3], line 5\u001b[0;36m\u001b[0m\n\u001b[0;31m    model_name=\"coca_ViT-L-14\",\u001b[0m\n\u001b[0m    ^\u001b[0m\n\u001b[0;31mSyntaxError\u001b[0m\u001b[0;31m:\u001b[0m invalid syntax\n"
     ]
    }
   ],
   "source": [
    "import open_clip\n",
    "import torch\n",
    "\n",
    "model, _, transform = open_clip.create_model_and_transforms(\n",
    "  cache_dir=\"/workspaces/fast.ai/models\",\n",
    "  model_name=\"coca_ViT-L-14\",\n",
    "  pretrained=\"mscoco_finetuned_laion2B-s13B-b90k\"\n",
    ")"
   ]
  },
  {
   "cell_type": "code",
   "execution_count": 1,
   "metadata": {},
   "outputs": [
    {
     "name": "stdout",
     "output_type": "stream",
     "text": [
      "--2023-04-08 23:35:19--  https://i.imgur.com/8H7XCH0.jpg\n",
      "Resolving i.imgur.com (i.imgur.com)... 146.75.92.193\n",
      "Connecting to i.imgur.com (i.imgur.com)|146.75.92.193|:443... connected.\n",
      "HTTP request sent, awaiting response... 200 OK\n",
      "Length: 44544 (44K) [image/jpeg]\n",
      "Saving to: ‘cat.jpg’\n",
      "\n",
      "cat.jpg             100%[===================>]  43.50K   213KB/s    in 0.2s    \n",
      "\n",
      "2023-04-08 23:35:20 (213 KB/s) - ‘cat.jpg’ saved [44544/44544]\n",
      "\n"
     ]
    }
   ],
   "source": [
    "!wget https://i.imgur.com/8H7XCH0.jpg -O cat.jpg"
   ]
  },
  {
   "cell_type": "code",
   "execution_count": null,
   "metadata": {},
   "outputs": [],
   "source": []
  }
 ],
 "metadata": {
  "kernelspec": {
   "display_name": "Python 3",
   "language": "python",
   "name": "python3"
  },
  "language_info": {
   "codemirror_mode": {
    "name": "ipython",
    "version": 3
   },
   "file_extension": ".py",
   "mimetype": "text/x-python",
   "name": "python",
   "nbconvert_exporter": "python",
   "pygments_lexer": "ipython3",
   "version": "3.8.10"
  },
  "orig_nbformat": 4
 },
 "nbformat": 4,
 "nbformat_minor": 2
}
